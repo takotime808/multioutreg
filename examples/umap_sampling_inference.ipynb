{
 "cells": [
  {
   "cell_type": "markdown",
   "metadata": {},
   "source": [
    "# 📘 UMAP Sampling Method Inference\n",
    "This notebook generates synthetic samples using common sampling strategies (Grid, Random, LHS, Sobol),\n",
    "reduces their dimensionality using **UMAP**, and infers the likely sampling method used based on structure.\n",
    "\n",
    "It also exports:\n",
    "- A 2D interactive HTML plot\n",
    "- A static PNG image"
   ]
  },
  {
   "cell_type": "code",
   "execution_count": 1,
   "metadata": {},
   "outputs": [
    {
     "name": "stderr",
     "output_type": "stream",
     "text": [
      "/Users/tako/codes/miniconda3/envs/foo310/lib/python3.10/site-packages/tqdm/auto.py:21: TqdmWarning: IProgress not found. Please update jupyter and ipywidgets. See https://ipywidgets.readthedocs.io/en/stable/user_install.html\n",
      "  from .autonotebook import tqdm as notebook_tqdm\n"
     ]
    }
   ],
   "source": [
    "import numpy as np\n",
    "import pandas as pd\n",
    "from scipy.stats import qmc\n",
    "from sklearn.preprocessing import StandardScaler\n",
    "from sklearn.cluster import KMeans\n",
    "from sklearn.metrics import silhouette_score\n",
    "from scipy.spatial import KDTree\n",
    "from scipy.stats import entropy\n",
    "import umap\n",
    "import plotly.express as px\n",
    "import plotly.io as pio"
   ]
  },
  {
   "cell_type": "code",
   "execution_count": 2,
   "metadata": {},
   "outputs": [
    {
     "name": "stderr",
     "output_type": "stream",
     "text": [
      "/Users/tako/codes/miniconda3/envs/foo310/lib/python3.10/site-packages/scipy/stats/_qmc.py:763: UserWarning: The balance properties of Sobol' points require n to be a power of 2.\n",
      "  sample = self._random(n, workers=workers)\n"
     ]
    }
   ],
   "source": [
    "# Generate synthetic sampling data\n",
    "np.random.seed(42)\n",
    "n = 100\n",
    "grid = np.array(np.meshgrid(np.linspace(0, 1, 10), np.linspace(0, 1, 10))).T.reshape(-1, 2)\n",
    "lhs = qmc.LatinHypercube(d=2).random(n)\n",
    "sobol = qmc.Sobol(d=2).random(n)\n",
    "rand = np.random.rand(n, 2)\n",
    "\n",
    "X = np.vstack([grid, rand, lhs, sobol])\n",
    "labels = ['Grid'] * len(grid) + ['Random'] * n + ['LHS'] * n + ['Sobol'] * n\n",
    "df = pd.DataFrame(X, columns=['x1', 'x2'])\n",
    "df['TrueSampling'] = labels"
   ]
  },
  {
   "cell_type": "code",
   "execution_count": 3,
   "metadata": {},
   "outputs": [
    {
     "name": "stderr",
     "output_type": "stream",
     "text": [
      "/Users/tako/codes/miniconda3/envs/foo310/lib/python3.10/site-packages/umap/umap_.py:1952: UserWarning: n_jobs value 1 overridden to 1 by setting random_state. Use no seed for parallelism.\n",
      "  warn(\n"
     ]
    }
   ],
   "source": [
    "# UMAP + KMeans\n",
    "X_scaled = StandardScaler().fit_transform(df[['x1', 'x2']])\n",
    "X_umap = umap.UMAP(n_neighbors=15, min_dist=0.1, n_components=2, random_state=42).fit_transform(X_scaled)\n",
    "kmeans = KMeans(n_clusters=4, random_state=42)\n",
    "clusters = kmeans.fit_predict(X_umap)\n",
    "df_umap = pd.DataFrame(X_umap, columns=['UMAP1', 'UMAP2'])\n",
    "df_umap['Cluster'] = clusters\n",
    "df_umap['TrueSampling'] = df['TrueSampling']"
   ]
  },
  {
   "cell_type": "code",
   "execution_count": 4,
   "metadata": {},
   "outputs": [],
   "source": [
    "# Inference function\n",
    "def classify_sampling(embedding, clusters):\n",
    "    dists = KDTree(embedding).query(embedding, k=2)[0][:, 1]\n",
    "    std = np.std(dists)\n",
    "    sil = silhouette_score(embedding, clusters)\n",
    "    ent = entropy(np.histogram(dists, bins=30, density=True)[0])\n",
    "    if std < 0.05 and sil > 0.6:\n",
    "        return 'Grid', 'Low std and high silhouette -> Grid'\n",
    "    if std > 0.2 and sil < 0.3:\n",
    "        return 'Random', 'High std and low silhouette -> Random'\n",
    "    if 0.05 <= std <= 0.15:\n",
    "        return ('Sobol', 'Moderate spread, low entropy -> Sobol') if ent < 2.0 else ('LHS', 'Moderate spread, higher entropy -> LHS')\n",
    "    return 'Uncertain', 'Pattern unclear'"
   ]
  },
  {
   "cell_type": "code",
   "execution_count": 5,
   "metadata": {},
   "outputs": [
    {
     "name": "stdout",
     "output_type": "stream",
     "text": [
      "Inferred Sampling Method: LHS\n",
      "Justification: Moderate spread, higher entropy -> LHS\n"
     ]
    }
   ],
   "source": [
    "# Classify and print result\n",
    "method, explanation = classify_sampling(X_umap, clusters)\n",
    "print(f'Inferred Sampling Method: {method}')\n",
    "print(f'Justification: {explanation}')"
   ]
  },
  {
   "cell_type": "code",
   "execution_count": 6,
   "id": "e490a83b",
   "metadata": {},
   "outputs": [
    {
     "name": "stdout",
     "output_type": "stream",
     "text": [
      "Requirement already satisfied: kaleido in /Users/tako/codes/miniconda3/envs/foo310/lib/python3.10/site-packages (1.0.0)\n",
      "Requirement already satisfied: choreographer>=1.0.5 in /Users/tako/codes/miniconda3/envs/foo310/lib/python3.10/site-packages (from kaleido) (1.0.9)\n",
      "Requirement already satisfied: logistro>=1.0.8 in /Users/tako/codes/miniconda3/envs/foo310/lib/python3.10/site-packages (from kaleido) (1.1.0)\n",
      "Requirement already satisfied: orjson>=3.10.15 in /Users/tako/codes/miniconda3/envs/foo310/lib/python3.10/site-packages (from kaleido) (3.11.0)\n",
      "Requirement already satisfied: packaging in /Users/tako/codes/miniconda3/envs/foo310/lib/python3.10/site-packages (from kaleido) (24.2)\n",
      "Requirement already satisfied: simplejson>=3.19.3 in /Users/tako/codes/miniconda3/envs/foo310/lib/python3.10/site-packages (from choreographer>=1.0.5->kaleido) (3.20.1)\n"
     ]
    }
   ],
   "source": [
    "!pip install -U kaleido"
   ]
  },
  {
   "cell_type": "code",
   "execution_count": 7,
   "metadata": {},
   "outputs": [
    {
     "name": "stderr",
     "output_type": "stream",
     "text": [
      "/Users/tako/codes/miniconda3/envs/foo310/lib/python3.10/site-packages/kaleido/__init__.py:14: UserWarning:\n",
      "\n",
      "\n",
      "\n",
      "Warning: You have Plotly version 5.13.1, which is not compatible with this version of Kaleido (1.0.0).\n",
      "\n",
      "This means that static image generation (e.g. `fig.write_image()`) will not work.\n",
      "\n",
      "Please upgrade Plotly to version 6.1.1 or greater, or downgrade Kaleido to version 0.2.1.\n",
      "\n",
      "\n"
     ]
    },
    {
     "data": {
      "application/vnd.plotly.v1+json": {
       "config": {
        "plotlyServerURL": "https://plot.ly"
       },
       "data": [
        {
         "customdata": [
          [
           "Grid"
          ],
          [
           "Grid"
          ],
          [
           "Grid"
          ],
          [
           "Grid"
          ],
          [
           "Grid"
          ],
          [
           "Grid"
          ],
          [
           "Grid"
          ],
          [
           "Grid"
          ],
          [
           "Grid"
          ],
          [
           "Grid"
          ],
          [
           "Grid"
          ],
          [
           "Grid"
          ],
          [
           "Grid"
          ],
          [
           "Grid"
          ],
          [
           "Grid"
          ],
          [
           "Grid"
          ],
          [
           "Grid"
          ],
          [
           "Grid"
          ],
          [
           "Grid"
          ],
          [
           "Grid"
          ],
          [
           "Grid"
          ],
          [
           "Grid"
          ],
          [
           "Grid"
          ],
          [
           "Grid"
          ],
          [
           "Grid"
          ],
          [
           "Grid"
          ],
          [
           "Grid"
          ],
          [
           "Grid"
          ],
          [
           "Grid"
          ],
          [
           "Grid"
          ],
          [
           "Grid"
          ],
          [
           "Grid"
          ],
          [
           "Grid"
          ],
          [
           "Grid"
          ],
          [
           "Grid"
          ],
          [
           "Grid"
          ],
          [
           "Grid"
          ],
          [
           "Grid"
          ],
          [
           "Grid"
          ],
          [
           "Grid"
          ],
          [
           "Grid"
          ],
          [
           "Grid"
          ],
          [
           "Grid"
          ],
          [
           "Grid"
          ],
          [
           "Grid"
          ],
          [
           "Grid"
          ],
          [
           "Grid"
          ],
          [
           "Grid"
          ],
          [
           "Grid"
          ],
          [
           "Grid"
          ],
          [
           "Grid"
          ],
          [
           "Grid"
          ],
          [
           "Grid"
          ],
          [
           "Grid"
          ],
          [
           "Grid"
          ],
          [
           "Grid"
          ],
          [
           "Grid"
          ],
          [
           "Grid"
          ],
          [
           "Grid"
          ],
          [
           "Grid"
          ],
          [
           "Grid"
          ],
          [
           "Grid"
          ],
          [
           "Grid"
          ],
          [
           "Grid"
          ],
          [
           "Grid"
          ],
          [
           "Grid"
          ],
          [
           "Grid"
          ],
          [
           "Grid"
          ],
          [
           "Grid"
          ],
          [
           "Grid"
          ],
          [
           "Grid"
          ],
          [
           "Grid"
          ],
          [
           "Grid"
          ],
          [
           "Grid"
          ],
          [
           "Grid"
          ],
          [
           "Grid"
          ],
          [
           "Grid"
          ],
          [
           "Grid"
          ],
          [
           "Grid"
          ],
          [
           "Grid"
          ],
          [
           "Grid"
          ],
          [
           "Grid"
          ],
          [
           "Grid"
          ],
          [
           "Grid"
          ],
          [
           "Grid"
          ],
          [
           "Grid"
          ],
          [
           "Grid"
          ],
          [
           "Grid"
          ],
          [
           "Grid"
          ],
          [
           "Grid"
          ],
          [
           "Grid"
          ],
          [
           "Grid"
          ],
          [
           "Grid"
          ],
          [
           "Grid"
          ],
          [
           "Grid"
          ],
          [
           "Grid"
          ],
          [
           "Grid"
          ],
          [
           "Grid"
          ],
          [
           "Grid"
          ],
          [
           "Grid"
          ]
         ],
         "hovertemplate": "TrueSampling=%{customdata[0]}<br>UMAP1=%{x}<br>UMAP2=%{y}<br>Cluster=%{marker.color}<extra></extra>",
         "legendgroup": "Grid",
         "marker": {
          "color": [
           0,
           0,
           0,
           1,
           1,
           1,
           1,
           1,
           1,
           1,
           0,
           0,
           0,
           1,
           1,
           1,
           1,
           1,
           1,
           1,
           0,
           0,
           0,
           0,
           1,
           1,
           1,
           1,
           1,
           1,
           0,
           0,
           0,
           0,
           1,
           1,
           1,
           1,
           1,
           1,
           0,
           0,
           0,
           0,
           2,
           1,
           1,
           3,
           3,
           1,
           2,
           2,
           2,
           2,
           2,
           2,
           3,
           3,
           3,
           3,
           2,
           2,
           2,
           2,
           2,
           3,
           3,
           3,
           3,
           3,
           2,
           2,
           2,
           2,
           2,
           3,
           3,
           3,
           3,
           3,
           2,
           2,
           2,
           2,
           2,
           3,
           3,
           3,
           3,
           3,
           2,
           2,
           2,
           2,
           2,
           3,
           3,
           3,
           3,
           3
          ],
          "coloraxis": "coloraxis",
          "symbol": "circle"
         },
         "mode": "markers",
         "name": "Grid",
         "orientation": "v",
         "showlegend": true,
         "type": "scatter",
         "x": [
          -0.49069643,
          -0.3037333,
          0.11697898,
          2.5806482,
          3.2748673,
          4.378743,
          4.9146137,
          6.0803437,
          6.645577,
          6.9396987,
          -0.34656936,
          0.018462172,
          0.36781725,
          2.6892064,
          3.4881897,
          4.2519183,
          5.2893205,
          6.1410227,
          6.887102,
          6.998329,
          -0.02622206,
          0.30867618,
          0.88184285,
          2.3062685,
          4.0591164,
          4.5911584,
          6.1113634,
          6.528818,
          7.025942,
          7.96036,
          0.37698644,
          0.80406535,
          1.8951288,
          2.6326578,
          4.4900527,
          5.0682106,
          6.390702,
          7.2077904,
          8.037653,
          8.099912,
          1.7127181,
          1.8896701,
          2.1589408,
          2.7803056,
          4.687166,
          6.2632375,
          7.080882,
          7.7245126,
          8.264601,
          8.347051,
          2.5905962,
          2.689859,
          2.9477172,
          4.694914,
          5.128807,
          5.7065406,
          7.5331416,
          8.127701,
          8.81536,
          9.174626,
          2.811182,
          3.108401,
          3.8841293,
          5.0548496,
          5.6613955,
          6.606292,
          7.592198,
          8.235995,
          9.345752,
          9.473181,
          3.2379336,
          3.537112,
          4.346186,
          5.134121,
          6.179702,
          7.142594,
          7.58253,
          8.3886595,
          9.767169,
          9.933847,
          3.7479365,
          3.7821617,
          4.722055,
          5.426468,
          6.86809,
          7.5593715,
          8.22752,
          9.512591,
          10.010346,
          10.137118,
          3.9319322,
          4.1007113,
          5.058615,
          5.3970885,
          6.8834124,
          7.928568,
          8.394062,
          9.689355,
          10.127679,
          10.283046
         ],
         "xaxis": "x",
         "y": [
          4.827199,
          4.65914,
          4.256124,
          2.069103,
          1.9069554,
          1.5442904,
          1.4699228,
          1.1948854,
          0.9162987,
          0.6065273,
          5.1053734,
          4.880853,
          4.460301,
          2.2885494,
          2.1455011,
          1.8780318,
          1.6453645,
          1.5506263,
          1.3200284,
          0.72593075,
          5.712029,
          5.478535,
          5.054826,
          4.9477415,
          2.857818,
          2.8615444,
          2.8526478,
          2.2352445,
          1.8401759,
          2.4755986,
          6.2132125,
          6.3608823,
          6.0801263,
          5.539857,
          3.5646095,
          3.3063798,
          3.3195658,
          3.4031067,
          2.9025638,
          2.6570601,
          7.4175987,
          7.1446743,
          6.6220875,
          6.35778,
          6.5045886,
          4.083338,
          4.247102,
          4.107716,
          3.6579092,
          2.979864,
          8.815852,
          8.231487,
          7.7677827,
          7.1697435,
          6.835812,
          6.652624,
          4.9783926,
          4.7953215,
          4.548718,
          4.6040998,
          9.113519,
          8.795719,
          8.655766,
          8.105983,
          7.686122,
          6.962202,
          6.2289767,
          5.6284833,
          5.2542777,
          5.045094,
          9.794391,
          9.872731,
          9.208311,
          8.735255,
          8.121695,
          7.759937,
          7.3914113,
          6.309845,
          5.863863,
          5.7990108,
          10.356809,
          10.181396,
          10.134842,
          9.791768,
          8.798197,
          8.3928585,
          8.225634,
          7.196596,
          6.626365,
          6.36899,
          10.342832,
          10.384116,
          10.355791,
          10.205043,
          9.002334,
          8.56582,
          8.408461,
          7.432071,
          6.9866004,
          6.7048535
         ],
         "yaxis": "y"
        },
        {
         "customdata": [
          [
           "Random"
          ],
          [
           "Random"
          ],
          [
           "Random"
          ],
          [
           "Random"
          ],
          [
           "Random"
          ],
          [
           "Random"
          ],
          [
           "Random"
          ],
          [
           "Random"
          ],
          [
           "Random"
          ],
          [
           "Random"
          ],
          [
           "Random"
          ],
          [
           "Random"
          ],
          [
           "Random"
          ],
          [
           "Random"
          ],
          [
           "Random"
          ],
          [
           "Random"
          ],
          [
           "Random"
          ],
          [
           "Random"
          ],
          [
           "Random"
          ],
          [
           "Random"
          ],
          [
           "Random"
          ],
          [
           "Random"
          ],
          [
           "Random"
          ],
          [
           "Random"
          ],
          [
           "Random"
          ],
          [
           "Random"
          ],
          [
           "Random"
          ],
          [
           "Random"
          ],
          [
           "Random"
          ],
          [
           "Random"
          ],
          [
           "Random"
          ],
          [
           "Random"
          ],
          [
           "Random"
          ],
          [
           "Random"
          ],
          [
           "Random"
          ],
          [
           "Random"
          ],
          [
           "Random"
          ],
          [
           "Random"
          ],
          [
           "Random"
          ],
          [
           "Random"
          ],
          [
           "Random"
          ],
          [
           "Random"
          ],
          [
           "Random"
          ],
          [
           "Random"
          ],
          [
           "Random"
          ],
          [
           "Random"
          ],
          [
           "Random"
          ],
          [
           "Random"
          ],
          [
           "Random"
          ],
          [
           "Random"
          ],
          [
           "Random"
          ],
          [
           "Random"
          ],
          [
           "Random"
          ],
          [
           "Random"
          ],
          [
           "Random"
          ],
          [
           "Random"
          ],
          [
           "Random"
          ],
          [
           "Random"
          ],
          [
           "Random"
          ],
          [
           "Random"
          ],
          [
           "Random"
          ],
          [
           "Random"
          ],
          [
           "Random"
          ],
          [
           "Random"
          ],
          [
           "Random"
          ],
          [
           "Random"
          ],
          [
           "Random"
          ],
          [
           "Random"
          ],
          [
           "Random"
          ],
          [
           "Random"
          ],
          [
           "Random"
          ],
          [
           "Random"
          ],
          [
           "Random"
          ],
          [
           "Random"
          ],
          [
           "Random"
          ],
          [
           "Random"
          ],
          [
           "Random"
          ],
          [
           "Random"
          ],
          [
           "Random"
          ],
          [
           "Random"
          ],
          [
           "Random"
          ],
          [
           "Random"
          ],
          [
           "Random"
          ],
          [
           "Random"
          ],
          [
           "Random"
          ],
          [
           "Random"
          ],
          [
           "Random"
          ],
          [
           "Random"
          ],
          [
           "Random"
          ],
          [
           "Random"
          ],
          [
           "Random"
          ],
          [
           "Random"
          ],
          [
           "Random"
          ],
          [
           "Random"
          ],
          [
           "Random"
          ],
          [
           "Random"
          ],
          [
           "Random"
          ],
          [
           "Random"
          ],
          [
           "Random"
          ],
          [
           "Random"
          ]
         ],
         "hovertemplate": "TrueSampling=%{customdata[0]}<br>UMAP1=%{x}<br>UMAP2=%{y}<br>Cluster=%{marker.color}<extra></extra>",
         "legendgroup": "Random",
         "marker": {
          "color": [
           1,
           3,
           0,
           1,
           3,
           1,
           2,
           0,
           1,
           0,
           2,
           0,
           3,
           1,
           2,
           2,
           1,
           3,
           0,
           2,
           1,
           1,
           1,
           1,
           2,
           3,
           3,
           3,
           0,
           1,
           0,
           2,
           1,
           1,
           1,
           2,
           1,
           3,
           2,
           0,
           3,
           0,
           0,
           3,
           2,
           1,
           3,
           2,
           2,
           0,
           1,
           1,
           2,
           1,
           0,
           0,
           3,
           3,
           2,
           3,
           3,
           0,
           1,
           3,
           1,
           0,
           1,
           2,
           3,
           1,
           2,
           2,
           0,
           2,
           1,
           2,
           1,
           2,
           3,
           1,
           1,
           2,
           1,
           0,
           1,
           2,
           2,
           2,
           2,
           2,
           0,
           3,
           1,
           3,
           2,
           1,
           3,
           0,
           3,
           3
          ],
          "coloraxis": "coloraxis",
          "symbol": "diamond"
         },
         "mode": "markers",
         "name": "Random",
         "orientation": "v",
         "showlegend": true,
         "type": "scatter",
         "x": [
          8.262802,
          7.261778,
          0.45766342,
          6.7525587,
          7.8456845,
          6.8846927,
          4.381056,
          0.5868577,
          4.7362957,
          2.5975633,
          3.0765162,
          2.6849146,
          7.8022423,
          4.31015,
          2.6928759,
          3.0874002,
          6.870057,
          9.808281,
          0.7052214,
          5.6814256,
          3.75229,
          6.756296,
          6.1120124,
          4.810544,
          2.9077377,
          9.738312,
          10.096396,
          9.182397,
          0.20316368,
          2.6383646,
          2.4195552,
          5.1738324,
          4.832324,
          6.4067836,
          6.9826164,
          4.1705227,
          6.233978,
          8.125578,
          3.4084897,
          0.90160096,
          7.9817767,
          0.56366974,
          2.5743704,
          7.429088,
          7.0025945,
          5.8964868,
          7.1692414,
          6.5312047,
          4.9277377,
          -0.27357322,
          4.7028437,
          4.7367735,
          4.958801,
          7.5035233,
          0.22364958,
          1.0223385,
          9.744159,
          9.151778,
          4.240888,
          7.4597154,
          9.836586,
          0.8173495,
          4.0425334,
          9.73427,
          4.0146227,
          2.1145666,
          2.7441344,
          5.391162,
          7.456305,
          8.177298,
          5.1878014,
          3.0719726,
          0.27062768,
          5.6528683,
          2.4442518,
          4.826405,
          3.8983517,
          5.151177,
          8.1753,
          6.3983655,
          6.319166,
          5.95525,
          6.5945687,
          1.4535207,
          4.5477567,
          2.914165,
          2.881069,
          3.241094,
          5.4586115,
          4.1210833,
          0.8790334,
          10.026057,
          6.1812153,
          7.2806807,
          2.919834,
          6.832694,
          8.137693,
          2.736439,
          9.647081,
          9.571981
         ],
         "xaxis": "x",
         "y": [
          2.8094518,
          7.504401,
          4.9608707,
          1.0505201,
          5.4673038,
          0.560583,
          9.615529,
          5.018941,
          3.2550418,
          6.3271728,
          8.438135,
          5.284823,
          4.1027446,
          2.5487823,
          8.8439455,
          8.2841015,
          0.7397443,
          7.2498674,
          6.25892,
          7.774694,
          2.171384,
          0.9238638,
          2.9583714,
          3.3583696,
          7.853772,
          7.380047,
          6.8510785,
          4.786799,
          4.4361506,
          2.2224736,
          6.1227922,
          8.933469,
          3.1441298,
          1.6362305,
          0.61528075,
          9.1864195,
          1.1466771,
          6.0511103,
          9.866456,
          6.400919,
          8.1548195,
          6.3486595,
          5.468421,
          7.222034,
          8.6990595,
          1.6211035,
          7.685621,
          7.9198737,
          6.8172326,
          4.6491027,
          1.5187069,
          3.301394,
          10.142784,
          3.9163256,
          5.579809,
          6.02511,
          7.2471423,
          5.0346837,
          9.473587,
          8.488021,
          6.032751,
          6.3051558,
          2.8702118,
          6.188081,
          1.6254002,
          6.4985356,
          2.2391348,
          10.124583,
          4.620434,
          2.7541943,
          10.280468,
          7.011274,
          6.029385,
          6.8556376,
          2.2399082,
          10.102792,
          2.2755067,
          10.382682,
          5.755878,
          2.6362169,
          3.600346,
          6.912907,
          1.2945473,
          6.1190715,
          1.5496786,
          9.178586,
          7.6020617,
          8.411744,
          7.9567833,
          10.3346615,
          6.4110003,
          6.8550076,
          2.9690297,
          8.011254,
          7.5833836,
          1.1137915,
          8.325919,
          5.524076,
          5.6197357,
          7.14263
         ],
         "yaxis": "y"
        },
        {
         "customdata": [
          [
           "LHS"
          ],
          [
           "LHS"
          ],
          [
           "LHS"
          ],
          [
           "LHS"
          ],
          [
           "LHS"
          ],
          [
           "LHS"
          ],
          [
           "LHS"
          ],
          [
           "LHS"
          ],
          [
           "LHS"
          ],
          [
           "LHS"
          ],
          [
           "LHS"
          ],
          [
           "LHS"
          ],
          [
           "LHS"
          ],
          [
           "LHS"
          ],
          [
           "LHS"
          ],
          [
           "LHS"
          ],
          [
           "LHS"
          ],
          [
           "LHS"
          ],
          [
           "LHS"
          ],
          [
           "LHS"
          ],
          [
           "LHS"
          ],
          [
           "LHS"
          ],
          [
           "LHS"
          ],
          [
           "LHS"
          ],
          [
           "LHS"
          ],
          [
           "LHS"
          ],
          [
           "LHS"
          ],
          [
           "LHS"
          ],
          [
           "LHS"
          ],
          [
           "LHS"
          ],
          [
           "LHS"
          ],
          [
           "LHS"
          ],
          [
           "LHS"
          ],
          [
           "LHS"
          ],
          [
           "LHS"
          ],
          [
           "LHS"
          ],
          [
           "LHS"
          ],
          [
           "LHS"
          ],
          [
           "LHS"
          ],
          [
           "LHS"
          ],
          [
           "LHS"
          ],
          [
           "LHS"
          ],
          [
           "LHS"
          ],
          [
           "LHS"
          ],
          [
           "LHS"
          ],
          [
           "LHS"
          ],
          [
           "LHS"
          ],
          [
           "LHS"
          ],
          [
           "LHS"
          ],
          [
           "LHS"
          ],
          [
           "LHS"
          ],
          [
           "LHS"
          ],
          [
           "LHS"
          ],
          [
           "LHS"
          ],
          [
           "LHS"
          ],
          [
           "LHS"
          ],
          [
           "LHS"
          ],
          [
           "LHS"
          ],
          [
           "LHS"
          ],
          [
           "LHS"
          ],
          [
           "LHS"
          ],
          [
           "LHS"
          ],
          [
           "LHS"
          ],
          [
           "LHS"
          ],
          [
           "LHS"
          ],
          [
           "LHS"
          ],
          [
           "LHS"
          ],
          [
           "LHS"
          ],
          [
           "LHS"
          ],
          [
           "LHS"
          ],
          [
           "LHS"
          ],
          [
           "LHS"
          ],
          [
           "LHS"
          ],
          [
           "LHS"
          ],
          [
           "LHS"
          ],
          [
           "LHS"
          ],
          [
           "LHS"
          ],
          [
           "LHS"
          ],
          [
           "LHS"
          ],
          [
           "LHS"
          ],
          [
           "LHS"
          ],
          [
           "LHS"
          ],
          [
           "LHS"
          ],
          [
           "LHS"
          ],
          [
           "LHS"
          ],
          [
           "LHS"
          ],
          [
           "LHS"
          ],
          [
           "LHS"
          ],
          [
           "LHS"
          ],
          [
           "LHS"
          ],
          [
           "LHS"
          ],
          [
           "LHS"
          ],
          [
           "LHS"
          ],
          [
           "LHS"
          ],
          [
           "LHS"
          ],
          [
           "LHS"
          ],
          [
           "LHS"
          ],
          [
           "LHS"
          ],
          [
           "LHS"
          ],
          [
           "LHS"
          ]
         ],
         "hovertemplate": "TrueSampling=%{customdata[0]}<br>UMAP1=%{x}<br>UMAP2=%{y}<br>Cluster=%{marker.color}<extra></extra>",
         "legendgroup": "LHS",
         "marker": {
          "color": [
           3,
           3,
           0,
           0,
           0,
           3,
           1,
           0,
           2,
           3,
           3,
           2,
           0,
           0,
           1,
           3,
           3,
           3,
           0,
           3,
           3,
           2,
           0,
           1,
           1,
           1,
           1,
           0,
           1,
           1,
           1,
           2,
           1,
           2,
           1,
           1,
           1,
           2,
           0,
           3,
           3,
           1,
           2,
           2,
           3,
           1,
           2,
           3,
           3,
           0,
           2,
           3,
           2,
           2,
           0,
           2,
           2,
           0,
           2,
           2,
           1,
           3,
           2,
           2,
           2,
           2,
           2,
           2,
           0,
           1,
           1,
           3,
           1,
           3,
           3,
           3,
           1,
           1,
           1,
           0,
           0,
           1,
           2,
           2,
           1,
           0,
           2,
           3,
           3,
           3,
           2,
           3,
           0,
           3,
           2,
           1,
           3,
           2,
           1,
           3
          ],
          "coloraxis": "coloraxis",
          "symbol": "square"
         },
         "mode": "markers",
         "name": "LHS",
         "orientation": "v",
         "showlegend": true,
         "type": "scatter",
         "x": [
          7.7569456,
          7.4130244,
          0.85034,
          1.7597008,
          0.42335123,
          7.8196387,
          2.837711,
          0.4800831,
          6.2579894,
          8.522326,
          8.311215,
          5.578983,
          0.046729453,
          2.5071347,
          6.9477816,
          8.229717,
          9.344122,
          9.331442,
          -0.41424713,
          7.834514,
          10.121856,
          6.770596,
          0.09734088,
          2.537862,
          4.2172103,
          6.428513,
          3.9140112,
          1.7001262,
          5.931903,
          4.216211,
          4.673203,
          3.7552826,
          4.1042895,
          3.0367172,
          8.148634,
          3.0156543,
          6.1239495,
          4.032265,
          -0.3140908,
          9.614957,
          10.071952,
          7.1719975,
          4.3808794,
          5.7837896,
          9.985727,
          8.08335,
          5.2348003,
          7.7215953,
          7.497827,
          0.27314648,
          3.0128033,
          7.330175,
          3.7074864,
          5.2984734,
          2.156164,
          4.8618793,
          3.7721078,
          0.17052674,
          4.610301,
          5.38227,
          2.8952887,
          8.195268,
          5.4645085,
          3.9493318,
          5.430761,
          4.819763,
          5.5568957,
          4.628803,
          2.3888774,
          4.470671,
          4.9127865,
          8.191748,
          6.5440063,
          7.490712,
          7.462935,
          8.520342,
          8.020663,
          6.1573157,
          4.7486434,
          1.8231955,
          -0.3958168,
          6.3497043,
          4.660922,
          2.7086945,
          6.775013,
          2.5917156,
          3.649641,
          9.596937,
          8.419966,
          9.807362,
          4.3915386,
          9.854218,
          2.720514,
          8.246179,
          5.1661925,
          6.268213,
          9.302399,
          5.642342,
          5.965345,
          8.160078
         ],
         "xaxis": "x",
         "y": [
          4.0842233,
          7.8244376,
          5.1162586,
          7.326009,
          6.2127085,
          7.9855022,
          2.2142766,
          5.189847,
          7.7350864,
          4.7747054,
          6.224818,
          7.935524,
          5.555627,
          6.1666,
          0.6049293,
          4.060376,
          4.914463,
          5.342564,
          4.7492986,
          4.186395,
          6.6545453,
          8.879825,
          4.742699,
          2.0937197,
          2.1330328,
          1.4131591,
          2.3683355,
          6.7268405,
          1.7060665,
          2.8968198,
          3.2533162,
          10.160218,
          2.17353,
          8.809325,
          3.2677865,
          2.0850015,
          2.902883,
          9.290794,
          4.670749,
          5.5884867,
          6.9333997,
          3.5897908,
          8.962434,
          6.785123,
          6.342482,
          2.7321174,
          6.7079806,
          5.717834,
          4.273084,
          5.569861,
          8.222832,
          7.9059014,
          10.206806,
          8.557649,
          6.57404,
          10.056759,
          8.673092,
          5.7103868,
          9.068763,
          10.239888,
          2.0575502,
          4.5629563,
          10.084736,
          8.657622,
          10.21377,
          6.7706356,
          6.823421,
          6.462024,
          6.0831246,
          1.6773779,
          3.1960242,
          4.0097594,
          3.1363726,
          6.2231574,
          7.723531,
          8.095723,
          2.5681648,
          2.7539241,
          3.4899676,
          6.298371,
          4.862267,
          1.8209612,
          6.9498496,
          8.936496,
          1.2924534,
          5.4718547,
          9.991614,
          5.286252,
          8.202082,
          7.276743,
          10.01006,
          5.7702703,
          5.6834593,
          8.3851595,
          6.869219,
          3.0512002,
          4.805264,
          6.6745677,
          1.2837733,
          8.478279
         ],
         "yaxis": "y"
        },
        {
         "customdata": [
          [
           "Sobol"
          ],
          [
           "Sobol"
          ],
          [
           "Sobol"
          ],
          [
           "Sobol"
          ],
          [
           "Sobol"
          ],
          [
           "Sobol"
          ],
          [
           "Sobol"
          ],
          [
           "Sobol"
          ],
          [
           "Sobol"
          ],
          [
           "Sobol"
          ],
          [
           "Sobol"
          ],
          [
           "Sobol"
          ],
          [
           "Sobol"
          ],
          [
           "Sobol"
          ],
          [
           "Sobol"
          ],
          [
           "Sobol"
          ],
          [
           "Sobol"
          ],
          [
           "Sobol"
          ],
          [
           "Sobol"
          ],
          [
           "Sobol"
          ],
          [
           "Sobol"
          ],
          [
           "Sobol"
          ],
          [
           "Sobol"
          ],
          [
           "Sobol"
          ],
          [
           "Sobol"
          ],
          [
           "Sobol"
          ],
          [
           "Sobol"
          ],
          [
           "Sobol"
          ],
          [
           "Sobol"
          ],
          [
           "Sobol"
          ],
          [
           "Sobol"
          ],
          [
           "Sobol"
          ],
          [
           "Sobol"
          ],
          [
           "Sobol"
          ],
          [
           "Sobol"
          ],
          [
           "Sobol"
          ],
          [
           "Sobol"
          ],
          [
           "Sobol"
          ],
          [
           "Sobol"
          ],
          [
           "Sobol"
          ],
          [
           "Sobol"
          ],
          [
           "Sobol"
          ],
          [
           "Sobol"
          ],
          [
           "Sobol"
          ],
          [
           "Sobol"
          ],
          [
           "Sobol"
          ],
          [
           "Sobol"
          ],
          [
           "Sobol"
          ],
          [
           "Sobol"
          ],
          [
           "Sobol"
          ],
          [
           "Sobol"
          ],
          [
           "Sobol"
          ],
          [
           "Sobol"
          ],
          [
           "Sobol"
          ],
          [
           "Sobol"
          ],
          [
           "Sobol"
          ],
          [
           "Sobol"
          ],
          [
           "Sobol"
          ],
          [
           "Sobol"
          ],
          [
           "Sobol"
          ],
          [
           "Sobol"
          ],
          [
           "Sobol"
          ],
          [
           "Sobol"
          ],
          [
           "Sobol"
          ],
          [
           "Sobol"
          ],
          [
           "Sobol"
          ],
          [
           "Sobol"
          ],
          [
           "Sobol"
          ],
          [
           "Sobol"
          ],
          [
           "Sobol"
          ],
          [
           "Sobol"
          ],
          [
           "Sobol"
          ],
          [
           "Sobol"
          ],
          [
           "Sobol"
          ],
          [
           "Sobol"
          ],
          [
           "Sobol"
          ],
          [
           "Sobol"
          ],
          [
           "Sobol"
          ],
          [
           "Sobol"
          ],
          [
           "Sobol"
          ],
          [
           "Sobol"
          ],
          [
           "Sobol"
          ],
          [
           "Sobol"
          ],
          [
           "Sobol"
          ],
          [
           "Sobol"
          ],
          [
           "Sobol"
          ],
          [
           "Sobol"
          ],
          [
           "Sobol"
          ],
          [
           "Sobol"
          ],
          [
           "Sobol"
          ],
          [
           "Sobol"
          ],
          [
           "Sobol"
          ],
          [
           "Sobol"
          ],
          [
           "Sobol"
          ],
          [
           "Sobol"
          ],
          [
           "Sobol"
          ],
          [
           "Sobol"
          ],
          [
           "Sobol"
          ],
          [
           "Sobol"
          ],
          [
           "Sobol"
          ]
         ],
         "hovertemplate": "TrueSampling=%{customdata[0]}<br>UMAP1=%{x}<br>UMAP2=%{y}<br>Cluster=%{marker.color}<extra></extra>",
         "legendgroup": "Sobol",
         "marker": {
          "color": [
           3,
           0,
           1,
           2,
           3,
           0,
           3,
           2,
           3,
           0,
           1,
           2,
           3,
           1,
           1,
           2,
           3,
           0,
           1,
           2,
           3,
           0,
           1,
           2,
           3,
           2,
           1,
           2,
           3,
           0,
           1,
           2,
           3,
           0,
           1,
           2,
           3,
           1,
           1,
           2,
           3,
           0,
           1,
           2,
           2,
           0,
           1,
           2,
           3,
           0,
           1,
           0,
           3,
           0,
           3,
           2,
           3,
           0,
           1,
           2,
           3,
           1,
           1,
           2,
           3,
           0,
           1,
           2,
           3,
           1,
           3,
           2,
           3,
           2,
           1,
           2,
           3,
           0,
           1,
           2,
           3,
           0,
           1,
           2,
           2,
           0,
           1,
           2,
           3,
           0,
           1,
           2,
           3,
           1,
           1,
           2,
           3,
           1,
           1,
           2
          ],
          "coloraxis": "coloraxis",
          "symbol": "x"
         },
         "mode": "markers",
         "name": "Sobol",
         "orientation": "v",
         "showlegend": true,
         "type": "scatter",
         "x": [
          8.277166,
          2.6233275,
          5.955139,
          2.8761861,
          7.2312317,
          0.017717337,
          8.445353,
          7.1782093,
          8.197524,
          2.0115807,
          6.766251,
          4.9259906,
          8.888195,
          3.0472202,
          5.170607,
          3.630423,
          7.310712,
          0.7742624,
          6.9254003,
          4.8994255,
          9.528162,
          1.1438911,
          6.279816,
          4.864466,
          10.18676,
          4.800442,
          4.2187595,
          2.9070885,
          7.837801,
          0.13782223,
          6.6810584,
          4.9455967,
          8.341544,
          0.7949975,
          6.1989455,
          5.0177,
          9.265869,
          3.664067,
          6.6270337,
          3.932285,
          9.786898,
          2.453302,
          6.2278457,
          4.177586,
          5.608795,
          -0.32533202,
          8.15173,
          6.709662,
          10.031256,
          2.9119341,
          4.0185986,
          2.0391474,
          7.5072217,
          0.9907962,
          8.15955,
          4.88047,
          7.9561615,
          1.8877089,
          6.9789877,
          5.5935593,
          8.303578,
          2.807455,
          6.4196343,
          4.056577,
          7.4453726,
          0.35673705,
          6.8212924,
          5.5119743,
          8.149789,
          2.9988792,
          7.476882,
          4.1326194,
          10.16978,
          4.580099,
          4.6634874,
          3.1010678,
          7.4559817,
          0.16758953,
          7.532879,
          4.816458,
          9.773659,
          2.2160115,
          4.716428,
          2.9308407,
          6.4951844,
          0.30869827,
          8.343347,
          6.65759,
          8.424557,
          1.9653878,
          6.3101583,
          5.0214844,
          9.286893,
          3.3324862,
          5.066091,
          3.366209,
          9.7464075,
          4.4992304,
          4.518977,
          2.7071133
         ],
         "xaxis": "x",
         "y": [
          6.219871,
          5.325653,
          1.6025349,
          8.15831,
          6.5724206,
          5.5551386,
          3.9555678,
          8.770396,
          8.16391,
          6.5786686,
          2.011795,
          8.319777,
          4.35017,
          2.0931349,
          3.4285948,
          10.109993,
          8.420214,
          6.3027945,
          0.63844687,
          7.108139,
          5.5719156,
          4.9810677,
          3.5914521,
          10.131229,
          6.813414,
          6.563093,
          1.9419585,
          9.150241,
          5.4258423,
          4.425785,
          2.3626325,
          8.982691,
          6.464076,
          6.1256013,
          1.4656236,
          7.5872264,
          5.218915,
          2.1859114,
          4.1085157,
          10.345193,
          7.162873,
          6.1227474,
          2.7562506,
          9.126175,
          6.627962,
          4.6694555,
          2.7007098,
          8.657772,
          6.0816765,
          5.524268,
          1.7685885,
          7.6280203,
          6.6712685,
          5.1013584,
          3.7703218,
          10.114849,
          8.487458,
          7.489966,
          1.5350645,
          7.3531294,
          5.013531,
          2.1981795,
          3.1568968,
          9.368031,
          7.5885744,
          6.132344,
          1.251093,
          6.8590684,
          5.4807262,
          2.2438555,
          4.3644967,
          10.348411,
          6.6078563,
          6.420042,
          2.9716647,
          9.35599,
          4.607938,
          4.3233075,
          3.3443067,
          9.121913,
          6.572717,
          5.793479,
          1.5070224,
          7.5936584,
          7.825173,
          5.3784523,
          2.8708963,
          9.06431,
          8.25251,
          6.8413305,
          1.6499867,
          8.152969,
          4.912508,
          2.1078534,
          3.0883102,
          9.888251,
          5.9526625,
          3.0896533,
          1.6368803,
          8.954678
         ],
         "yaxis": "y"
        }
       ],
       "layout": {
        "coloraxis": {
         "colorbar": {
          "title": {
           "text": "Cluster"
          }
         },
         "colorscale": [
          [
           0,
           "#0d0887"
          ],
          [
           0.1111111111111111,
           "#46039f"
          ],
          [
           0.2222222222222222,
           "#7201a8"
          ],
          [
           0.3333333333333333,
           "#9c179e"
          ],
          [
           0.4444444444444444,
           "#bd3786"
          ],
          [
           0.5555555555555556,
           "#d8576b"
          ],
          [
           0.6666666666666666,
           "#ed7953"
          ],
          [
           0.7777777777777778,
           "#fb9f3a"
          ],
          [
           0.8888888888888888,
           "#fdca26"
          ],
          [
           1,
           "#f0f921"
          ]
         ]
        },
        "legend": {
         "title": {
          "text": "TrueSampling"
         },
         "tracegroupgap": 0
        },
        "template": {
         "data": {
          "bar": [
           {
            "error_x": {
             "color": "#2a3f5f"
            },
            "error_y": {
             "color": "#2a3f5f"
            },
            "marker": {
             "line": {
              "color": "#E5ECF6",
              "width": 0.5
             },
             "pattern": {
              "fillmode": "overlay",
              "size": 10,
              "solidity": 0.2
             }
            },
            "type": "bar"
           }
          ],
          "barpolar": [
           {
            "marker": {
             "line": {
              "color": "#E5ECF6",
              "width": 0.5
             },
             "pattern": {
              "fillmode": "overlay",
              "size": 10,
              "solidity": 0.2
             }
            },
            "type": "barpolar"
           }
          ],
          "carpet": [
           {
            "aaxis": {
             "endlinecolor": "#2a3f5f",
             "gridcolor": "white",
             "linecolor": "white",
             "minorgridcolor": "white",
             "startlinecolor": "#2a3f5f"
            },
            "baxis": {
             "endlinecolor": "#2a3f5f",
             "gridcolor": "white",
             "linecolor": "white",
             "minorgridcolor": "white",
             "startlinecolor": "#2a3f5f"
            },
            "type": "carpet"
           }
          ],
          "choropleth": [
           {
            "colorbar": {
             "outlinewidth": 0,
             "ticks": ""
            },
            "type": "choropleth"
           }
          ],
          "contour": [
           {
            "colorbar": {
             "outlinewidth": 0,
             "ticks": ""
            },
            "colorscale": [
             [
              0,
              "#0d0887"
             ],
             [
              0.1111111111111111,
              "#46039f"
             ],
             [
              0.2222222222222222,
              "#7201a8"
             ],
             [
              0.3333333333333333,
              "#9c179e"
             ],
             [
              0.4444444444444444,
              "#bd3786"
             ],
             [
              0.5555555555555556,
              "#d8576b"
             ],
             [
              0.6666666666666666,
              "#ed7953"
             ],
             [
              0.7777777777777778,
              "#fb9f3a"
             ],
             [
              0.8888888888888888,
              "#fdca26"
             ],
             [
              1,
              "#f0f921"
             ]
            ],
            "type": "contour"
           }
          ],
          "contourcarpet": [
           {
            "colorbar": {
             "outlinewidth": 0,
             "ticks": ""
            },
            "type": "contourcarpet"
           }
          ],
          "heatmap": [
           {
            "colorbar": {
             "outlinewidth": 0,
             "ticks": ""
            },
            "colorscale": [
             [
              0,
              "#0d0887"
             ],
             [
              0.1111111111111111,
              "#46039f"
             ],
             [
              0.2222222222222222,
              "#7201a8"
             ],
             [
              0.3333333333333333,
              "#9c179e"
             ],
             [
              0.4444444444444444,
              "#bd3786"
             ],
             [
              0.5555555555555556,
              "#d8576b"
             ],
             [
              0.6666666666666666,
              "#ed7953"
             ],
             [
              0.7777777777777778,
              "#fb9f3a"
             ],
             [
              0.8888888888888888,
              "#fdca26"
             ],
             [
              1,
              "#f0f921"
             ]
            ],
            "type": "heatmap"
           }
          ],
          "heatmapgl": [
           {
            "colorbar": {
             "outlinewidth": 0,
             "ticks": ""
            },
            "colorscale": [
             [
              0,
              "#0d0887"
             ],
             [
              0.1111111111111111,
              "#46039f"
             ],
             [
              0.2222222222222222,
              "#7201a8"
             ],
             [
              0.3333333333333333,
              "#9c179e"
             ],
             [
              0.4444444444444444,
              "#bd3786"
             ],
             [
              0.5555555555555556,
              "#d8576b"
             ],
             [
              0.6666666666666666,
              "#ed7953"
             ],
             [
              0.7777777777777778,
              "#fb9f3a"
             ],
             [
              0.8888888888888888,
              "#fdca26"
             ],
             [
              1,
              "#f0f921"
             ]
            ],
            "type": "heatmapgl"
           }
          ],
          "histogram": [
           {
            "marker": {
             "pattern": {
              "fillmode": "overlay",
              "size": 10,
              "solidity": 0.2
             }
            },
            "type": "histogram"
           }
          ],
          "histogram2d": [
           {
            "colorbar": {
             "outlinewidth": 0,
             "ticks": ""
            },
            "colorscale": [
             [
              0,
              "#0d0887"
             ],
             [
              0.1111111111111111,
              "#46039f"
             ],
             [
              0.2222222222222222,
              "#7201a8"
             ],
             [
              0.3333333333333333,
              "#9c179e"
             ],
             [
              0.4444444444444444,
              "#bd3786"
             ],
             [
              0.5555555555555556,
              "#d8576b"
             ],
             [
              0.6666666666666666,
              "#ed7953"
             ],
             [
              0.7777777777777778,
              "#fb9f3a"
             ],
             [
              0.8888888888888888,
              "#fdca26"
             ],
             [
              1,
              "#f0f921"
             ]
            ],
            "type": "histogram2d"
           }
          ],
          "histogram2dcontour": [
           {
            "colorbar": {
             "outlinewidth": 0,
             "ticks": ""
            },
            "colorscale": [
             [
              0,
              "#0d0887"
             ],
             [
              0.1111111111111111,
              "#46039f"
             ],
             [
              0.2222222222222222,
              "#7201a8"
             ],
             [
              0.3333333333333333,
              "#9c179e"
             ],
             [
              0.4444444444444444,
              "#bd3786"
             ],
             [
              0.5555555555555556,
              "#d8576b"
             ],
             [
              0.6666666666666666,
              "#ed7953"
             ],
             [
              0.7777777777777778,
              "#fb9f3a"
             ],
             [
              0.8888888888888888,
              "#fdca26"
             ],
             [
              1,
              "#f0f921"
             ]
            ],
            "type": "histogram2dcontour"
           }
          ],
          "mesh3d": [
           {
            "colorbar": {
             "outlinewidth": 0,
             "ticks": ""
            },
            "type": "mesh3d"
           }
          ],
          "parcoords": [
           {
            "line": {
             "colorbar": {
              "outlinewidth": 0,
              "ticks": ""
             }
            },
            "type": "parcoords"
           }
          ],
          "pie": [
           {
            "automargin": true,
            "type": "pie"
           }
          ],
          "scatter": [
           {
            "fillpattern": {
             "fillmode": "overlay",
             "size": 10,
             "solidity": 0.2
            },
            "type": "scatter"
           }
          ],
          "scatter3d": [
           {
            "line": {
             "colorbar": {
              "outlinewidth": 0,
              "ticks": ""
             }
            },
            "marker": {
             "colorbar": {
              "outlinewidth": 0,
              "ticks": ""
             }
            },
            "type": "scatter3d"
           }
          ],
          "scattercarpet": [
           {
            "marker": {
             "colorbar": {
              "outlinewidth": 0,
              "ticks": ""
             }
            },
            "type": "scattercarpet"
           }
          ],
          "scattergeo": [
           {
            "marker": {
             "colorbar": {
              "outlinewidth": 0,
              "ticks": ""
             }
            },
            "type": "scattergeo"
           }
          ],
          "scattergl": [
           {
            "marker": {
             "colorbar": {
              "outlinewidth": 0,
              "ticks": ""
             }
            },
            "type": "scattergl"
           }
          ],
          "scattermapbox": [
           {
            "marker": {
             "colorbar": {
              "outlinewidth": 0,
              "ticks": ""
             }
            },
            "type": "scattermapbox"
           }
          ],
          "scatterpolar": [
           {
            "marker": {
             "colorbar": {
              "outlinewidth": 0,
              "ticks": ""
             }
            },
            "type": "scatterpolar"
           }
          ],
          "scatterpolargl": [
           {
            "marker": {
             "colorbar": {
              "outlinewidth": 0,
              "ticks": ""
             }
            },
            "type": "scatterpolargl"
           }
          ],
          "scatterternary": [
           {
            "marker": {
             "colorbar": {
              "outlinewidth": 0,
              "ticks": ""
             }
            },
            "type": "scatterternary"
           }
          ],
          "surface": [
           {
            "colorbar": {
             "outlinewidth": 0,
             "ticks": ""
            },
            "colorscale": [
             [
              0,
              "#0d0887"
             ],
             [
              0.1111111111111111,
              "#46039f"
             ],
             [
              0.2222222222222222,
              "#7201a8"
             ],
             [
              0.3333333333333333,
              "#9c179e"
             ],
             [
              0.4444444444444444,
              "#bd3786"
             ],
             [
              0.5555555555555556,
              "#d8576b"
             ],
             [
              0.6666666666666666,
              "#ed7953"
             ],
             [
              0.7777777777777778,
              "#fb9f3a"
             ],
             [
              0.8888888888888888,
              "#fdca26"
             ],
             [
              1,
              "#f0f921"
             ]
            ],
            "type": "surface"
           }
          ],
          "table": [
           {
            "cells": {
             "fill": {
              "color": "#EBF0F8"
             },
             "line": {
              "color": "white"
             }
            },
            "header": {
             "fill": {
              "color": "#C8D4E3"
             },
             "line": {
              "color": "white"
             }
            },
            "type": "table"
           }
          ]
         },
         "layout": {
          "annotationdefaults": {
           "arrowcolor": "#2a3f5f",
           "arrowhead": 0,
           "arrowwidth": 1
          },
          "autotypenumbers": "strict",
          "coloraxis": {
           "colorbar": {
            "outlinewidth": 0,
            "ticks": ""
           }
          },
          "colorscale": {
           "diverging": [
            [
             0,
             "#8e0152"
            ],
            [
             0.1,
             "#c51b7d"
            ],
            [
             0.2,
             "#de77ae"
            ],
            [
             0.3,
             "#f1b6da"
            ],
            [
             0.4,
             "#fde0ef"
            ],
            [
             0.5,
             "#f7f7f7"
            ],
            [
             0.6,
             "#e6f5d0"
            ],
            [
             0.7,
             "#b8e186"
            ],
            [
             0.8,
             "#7fbc41"
            ],
            [
             0.9,
             "#4d9221"
            ],
            [
             1,
             "#276419"
            ]
           ],
           "sequential": [
            [
             0,
             "#0d0887"
            ],
            [
             0.1111111111111111,
             "#46039f"
            ],
            [
             0.2222222222222222,
             "#7201a8"
            ],
            [
             0.3333333333333333,
             "#9c179e"
            ],
            [
             0.4444444444444444,
             "#bd3786"
            ],
            [
             0.5555555555555556,
             "#d8576b"
            ],
            [
             0.6666666666666666,
             "#ed7953"
            ],
            [
             0.7777777777777778,
             "#fb9f3a"
            ],
            [
             0.8888888888888888,
             "#fdca26"
            ],
            [
             1,
             "#f0f921"
            ]
           ],
           "sequentialminus": [
            [
             0,
             "#0d0887"
            ],
            [
             0.1111111111111111,
             "#46039f"
            ],
            [
             0.2222222222222222,
             "#7201a8"
            ],
            [
             0.3333333333333333,
             "#9c179e"
            ],
            [
             0.4444444444444444,
             "#bd3786"
            ],
            [
             0.5555555555555556,
             "#d8576b"
            ],
            [
             0.6666666666666666,
             "#ed7953"
            ],
            [
             0.7777777777777778,
             "#fb9f3a"
            ],
            [
             0.8888888888888888,
             "#fdca26"
            ],
            [
             1,
             "#f0f921"
            ]
           ]
          },
          "colorway": [
           "#636efa",
           "#EF553B",
           "#00cc96",
           "#ab63fa",
           "#FFA15A",
           "#19d3f3",
           "#FF6692",
           "#B6E880",
           "#FF97FF",
           "#FECB52"
          ],
          "font": {
           "color": "#2a3f5f"
          },
          "geo": {
           "bgcolor": "white",
           "lakecolor": "white",
           "landcolor": "#E5ECF6",
           "showlakes": true,
           "showland": true,
           "subunitcolor": "white"
          },
          "hoverlabel": {
           "align": "left"
          },
          "hovermode": "closest",
          "mapbox": {
           "style": "light"
          },
          "paper_bgcolor": "white",
          "plot_bgcolor": "#E5ECF6",
          "polar": {
           "angularaxis": {
            "gridcolor": "white",
            "linecolor": "white",
            "ticks": ""
           },
           "bgcolor": "#E5ECF6",
           "radialaxis": {
            "gridcolor": "white",
            "linecolor": "white",
            "ticks": ""
           }
          },
          "scene": {
           "xaxis": {
            "backgroundcolor": "#E5ECF6",
            "gridcolor": "white",
            "gridwidth": 2,
            "linecolor": "white",
            "showbackground": true,
            "ticks": "",
            "zerolinecolor": "white"
           },
           "yaxis": {
            "backgroundcolor": "#E5ECF6",
            "gridcolor": "white",
            "gridwidth": 2,
            "linecolor": "white",
            "showbackground": true,
            "ticks": "",
            "zerolinecolor": "white"
           },
           "zaxis": {
            "backgroundcolor": "#E5ECF6",
            "gridcolor": "white",
            "gridwidth": 2,
            "linecolor": "white",
            "showbackground": true,
            "ticks": "",
            "zerolinecolor": "white"
           }
          },
          "shapedefaults": {
           "line": {
            "color": "#2a3f5f"
           }
          },
          "ternary": {
           "aaxis": {
            "gridcolor": "white",
            "linecolor": "white",
            "ticks": ""
           },
           "baxis": {
            "gridcolor": "white",
            "linecolor": "white",
            "ticks": ""
           },
           "bgcolor": "#E5ECF6",
           "caxis": {
            "gridcolor": "white",
            "linecolor": "white",
            "ticks": ""
           }
          },
          "title": {
           "x": 0.05
          },
          "xaxis": {
           "automargin": true,
           "gridcolor": "white",
           "linecolor": "white",
           "ticks": "",
           "title": {
            "standoff": 15
           },
           "zerolinecolor": "white",
           "zerolinewidth": 2
          },
          "yaxis": {
           "automargin": true,
           "gridcolor": "white",
           "linecolor": "white",
           "ticks": "",
           "title": {
            "standoff": 15
           },
           "zerolinecolor": "white",
           "zerolinewidth": 2
          }
         }
        },
        "title": {
         "text": "UMAP 2D Projection - Inferred: LHS"
        },
        "xaxis": {
         "anchor": "y",
         "domain": [
          0,
          1
         ],
         "title": {
          "text": "UMAP1"
         }
        },
        "yaxis": {
         "anchor": "x",
         "domain": [
          0,
          1
         ],
         "title": {
          "text": "UMAP2"
         }
        }
       }
      }
     },
     "metadata": {},
     "output_type": "display_data"
    }
   ],
   "source": [
    "# Plot and export\n",
    "fig = px.scatter(df_umap, x='UMAP1', y='UMAP2', color='Cluster', symbol='TrueSampling',\n",
    "                 title=f'UMAP 2D Projection - Inferred: {method}', hover_data=['TrueSampling'])\n",
    "fig.write_html('umap_2d_sampling_plot.html')\n",
    "# pio.write_image(fig, 'umap_2d_sampling_plot.png', width=1000, height=800)\n",
    "fig.show()"
   ]
  },
  {
   "cell_type": "code",
   "execution_count": null,
   "id": "22fbb890",
   "metadata": {},
   "outputs": [],
   "source": []
  }
 ],
 "metadata": {
  "kernelspec": {
   "display_name": "foo310",
   "language": "python",
   "name": "python3"
  },
  "language_info": {
   "codemirror_mode": {
    "name": "ipython",
    "version": 3
   },
   "file_extension": ".py",
   "mimetype": "text/x-python",
   "name": "python",
   "nbconvert_exporter": "python",
   "pygments_lexer": "ipython3",
   "version": "3.10.16"
  }
 },
 "nbformat": 4,
 "nbformat_minor": 5
}
