{
 "cells": [
  {
   "cell_type": "markdown",
   "id": "e4f1c60b",
   "metadata": {},
   "source": [
    "<!-- # Copyright (c) 2025 takotime808 -->\n",
    "\n",
    "### Report Generation"
   ]
  },
  {
   "cell_type": "code",
   "execution_count": null,
   "id": "b485b75c",
   "metadata": {},
   "outputs": [],
   "source": [
    "!cd .. && python multioutreg/report/generate_report1.py"
   ]
  },
  {
   "cell_type": "code",
   "execution_count": null,
   "id": "e4c2fd36",
   "metadata": {},
   "outputs": [],
   "source": [
    "!cd .. && python multioutreg/report/generate_report1_safe.py"
   ]
  },
  {
   "cell_type": "code",
   "execution_count": null,
   "id": "8b29aeb0",
   "metadata": {},
   "outputs": [],
   "source": [
    "# !cd .. && python examples/generate_report.py\n",
    "!cd .. && python multioutreg/report/generate_report.py"
   ]
  },
  {
   "cell_type": "code",
   "execution_count": 4,
   "id": "aabd514d",
   "metadata": {},
   "outputs": [],
   "source": [
    "# from jinja2 import Environment, FileSystemLoader\n",
    "\n",
    "# env = Environment(loader=FileSystemLoader('multioutreg/report/template.html'))\n",
    "# template = env.get_template('template.html')\n",
    "\n",
    "# report_html = template.render(\n",
    "#     project_title=\"Your Model Report\",\n",
    "#     model_type=\"Multi-fidelity Gaussian Process\",\n",
    "#     fidelity_levels=['Low', 'High'],\n",
    "#     output_names=['Y1', 'Y2'],\n",
    "#     description=\"Explains a multi-fidelity surrogate using X, Y...\",\n",
    "#     metrics={'Y1': {'r2': 0.92, 'rmse': 0.2, 'mae': 0.15}, 'Y2': {...}},\n",
    "#     uncertainty_metrics={'NLL': 1.23, 'Sharpness': 0.45, ...},\n",
    "#     uncertainty_plots=[{'img_b64': ..., 'title': \"Calibration Curve\", 'caption': \"...\"}],\n",
    "#     prediction_plots={'Y1': ..., 'Y2': ...},\n",
    "#     shap_plots={'Y1': ..., 'Y2': ...},\n",
    "#     pdp_plots={'Y1': ..., 'Y2': ...},\n",
    "#     sampling_umap_plot=...,\n",
    "#     sampling_method_explanation=\"Sampling appears to be LHS, justified by...\",\n",
    "#     sampling_other_plots=[...],\n",
    "#     other_plots=[...],\n",
    "#     n_train=100,\n",
    "#     n_test=40,\n",
    "#     cross_validation=\"5-fold\",\n",
    "#     seed=42,\n",
    "#     notes=\"Any extra info\\nAnother note\"\n",
    "# )\n"
   ]
  }
 ],
 "metadata": {
  "kernelspec": {
   "display_name": "foo310",
   "language": "python",
   "name": "python3"
  },
  "language_info": {
   "codemirror_mode": {
    "name": "ipython",
    "version": 3
   },
   "file_extension": ".py",
   "mimetype": "text/x-python",
   "name": "python",
   "nbconvert_exporter": "python",
   "pygments_lexer": "ipython3",
   "version": "3.10.16"
  }
 },
 "nbformat": 4,
 "nbformat_minor": 5
}
