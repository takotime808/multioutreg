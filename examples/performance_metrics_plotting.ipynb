{
 "cells": [
  {
   "cell_type": "markdown",
   "id": "712e576a",
   "metadata": {},
   "source": [
    "<!-- # Copyright (c) 2025 takotime808 -->\n",
    "# Uncertainty Metrics for Multioutput Regressors (Flexible API)\n",
    "\n",
    "This notebook demonstrates a robust, type-annotated function to extract uncertainty metrics from any multi-output regressor, using [uncertainty-toolbox](https://uncertainty-toolbox.readthedocs.io/en/latest/). It supports various uncertainty APIs, including scikit-learn, GPs, and custom models.\n",
    "\n"
   ]
  },
  {
   "cell_type": "code",
   "execution_count": null,
   "id": "365b3850",
   "metadata": {},
   "outputs": [],
   "source": [
    "import numpy as np\n",
    "import pandas as pd\n",
    "import matplotlib.pyplot as plt\n",
    "import uncertainty_toolbox as uct\n",
    "\n",
    "n_samples = 100\n",
    "n_outputs = 3\n",
    "y_true = np.random.uniform(0, 10, size=(n_samples, n_outputs))\n",
    "y_pred = y_true + np.random.normal(0, 1, size=(n_samples, n_outputs))\n",
    "\n",
    "# Ensure stddevs are strictly > 0\n",
    "y_std  = np.abs(np.random.normal(1, 0.2, size=(n_samples, n_outputs))) + 1e-3\n",
    "\n",
    "metrics_list = []\n",
    "for i in range(y_true.shape[1]):\n",
    "    metrics = uct.metrics.get_all_metrics(\n",
    "        y_true[:, i],\n",
    "        y_pred[:, i],\n",
    "        y_std[:, i]\n",
    "    )\n",
    "    metrics['output'] = i\n",
    "    metrics_list.append(metrics)\n",
    "\n",
    "df_metrics = pd.DataFrame(metrics_list)\n",
    "print(df_metrics)\n",
    "\n",
    "metrics_to_plot = [c for c in df_metrics.columns if c != 'output']\n",
    "ax = df_metrics[metrics_to_plot].plot.bar(figsize=(12, 6))\n",
    "ax.set_xticklabels([f\"Output {i}\" for i in df_metrics['output']])\n",
    "plt.xlabel('Output')\n",
    "plt.title('Uncertainty Toolbox Regression Metrics per Output')\n",
    "plt.legend(title=\"Metric\")\n",
    "plt.tight_layout()\n",
    "plt.show()\n"
   ]
  },
  {
   "cell_type": "code",
   "execution_count": null,
   "id": "67291aa4",
   "metadata": {},
   "outputs": [],
   "source": []
  }
 ],
 "metadata": {
  "kernelspec": {
   "display_name": "foo310",
   "language": "python",
   "name": "python3"
  },
  "language_info": {
   "codemirror_mode": {
    "name": "ipython",
    "version": 3
   },
   "file_extension": ".py",
   "mimetype": "text/x-python",
   "name": "python",
   "nbconvert_exporter": "python",
   "pygments_lexer": "ipython3",
   "version": "3.10.16"
  }
 },
 "nbformat": 4,
 "nbformat_minor": 5
}
