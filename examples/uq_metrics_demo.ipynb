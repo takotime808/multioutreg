{
 "cells": [
  {
   "cell_type": "markdown",
   "id": "712e576a",
   "metadata": {},
   "source": [
    "<!-- # Copyright (c) 2025 takotime808 -->\n",
    "# Uncertainty Metrics for Multioutput Regressors (Flexible API)\n",
    "\n",
    "This notebook demonstrates a robust, type-annotated function to extract uncertainty metrics from any multi-output regressor, using [uncertainty-toolbox](https://uncertainty-toolbox.readthedocs.io/en/latest/). It supports various uncertainty APIs, including scikit-learn, GPs, and custom models.\n",
    "\n",
    "---\n",
    "\n",
    "**Install requirements**\n",
    "\n",
    "```sh\n",
    "pip install numpy pandas matplotlib scikit-learn uncertainty-toolbox\n",
    "```\n",
    "\n",
    "----\n",
    "**Imports**"
   ]
  },
  {
   "cell_type": "code",
   "execution_count": null,
   "id": "358e4b68",
   "metadata": {},
   "outputs": [
    {
     "name": "stderr",
     "output_type": "stream",
     "text": [
      "\n",
      "Bad key text.markup in file /Users/tako/.matplotlib/matplotlibrc, line 165 (\"text.markup         : 'plain'  # Affects how text, such as titles and labels, are\")\n",
      "You probably need to get an updated matplotlibrc file from\n",
      "https://github.com/matplotlib/matplotlib/blob/v3.6.3/matplotlibrc.template\n",
      "or from the matplotlib source distribution\n"
     ]
    },
    {
     "ename": "ImportError",
     "evalue": "cannot import name 'performance_metrics' from 'uncertainty_toolbox.metrics' (/Users/tako/codes/miniconda3/envs/foo310/lib/python3.10/site-packages/uncertainty_toolbox/metrics.py)",
     "output_type": "error",
     "traceback": [
      "\u001b[0;31m---------------------------------------------------------------------------\u001b[0m",
      "\u001b[0;31mImportError\u001b[0m                               Traceback (most recent call last)",
      "Cell \u001b[0;32mIn[1], line 8\u001b[0m\n\u001b[1;32m      6\u001b[0m \u001b[38;5;28;01mfrom\u001b[39;00m\u001b[38;5;250m \u001b[39m\u001b[38;5;21;01msklearn\u001b[39;00m\u001b[38;5;21;01m.\u001b[39;00m\u001b[38;5;21;01mmodel_selection\u001b[39;00m\u001b[38;5;250m \u001b[39m\u001b[38;5;28;01mimport\u001b[39;00m train_test_split\n\u001b[1;32m      7\u001b[0m \u001b[38;5;28;01mfrom\u001b[39;00m\u001b[38;5;250m \u001b[39m\u001b[38;5;21;01mtyping\u001b[39;00m\u001b[38;5;250m \u001b[39m\u001b[38;5;28;01mimport\u001b[39;00m Optional, Tuple, Dict, Any\n\u001b[0;32m----> 8\u001b[0m \u001b[38;5;28;01mfrom\u001b[39;00m\u001b[38;5;250m \u001b[39m\u001b[38;5;21;01muncertainty_toolbox\u001b[39;00m\u001b[38;5;21;01m.\u001b[39;00m\u001b[38;5;21;01mmetrics\u001b[39;00m\u001b[38;5;250m \u001b[39m\u001b[38;5;28;01mimport\u001b[39;00m performance_metrics\n\u001b[1;32m     10\u001b[0m \u001b[38;5;28;01mfrom\u001b[39;00m\u001b[38;5;250m \u001b[39m\u001b[38;5;21;01mmultioutreg\u001b[39;00m\u001b[38;5;21;01m.\u001b[39;00m\u001b[38;5;21;01mperformance\u001b[39;00m\u001b[38;5;21;01m.\u001b[39;00m\u001b[38;5;21;01mmetrics_generalized_api\u001b[39;00m\u001b[38;5;250m \u001b[39m\u001b[38;5;28;01mimport\u001b[39;00m get_uq_performance_metrics_flexible\n",
      "\u001b[0;31mImportError\u001b[0m: cannot import name 'performance_metrics' from 'uncertainty_toolbox.metrics' (/Users/tako/codes/miniconda3/envs/foo310/lib/python3.10/site-packages/uncertainty_toolbox/metrics.py)"
     ]
    }
   ],
   "source": [
    "import numpy as np\n",
    "# import pandas as pd\n",
    "import matplotlib.pyplot as plt\n",
    "from sklearn.multioutput import MultiOutputRegressor\n",
    "from sklearn.gaussian_process import GaussianProcessRegressor\n",
    "from sklearn.model_selection import train_test_split\n",
    "# import uncertainty_toolbox as uct\n",
    "\n",
    "from multioutreg.performance.metrics_generalized_api import get_uq_performance_metrics_flexible\n"
   ]
  },
  {
   "cell_type": "markdown",
   "id": "879646fb",
   "metadata": {},
   "source": [
    "**Create toy multi-output data and fit model**"
   ]
  },
  {
   "cell_type": "code",
   "execution_count": null,
   "id": "8c516550",
   "metadata": {},
   "outputs": [],
   "source": [
    "rng = np.random.RandomState(42)\n",
    "X = rng.rand(300, 5)\n",
    "Y = np.dot(X, rng.rand(5, 3)) + rng.randn(300, 3) * 0.1\n",
    "\n",
    "X_train, X_test, Y_train, Y_test = train_test_split(X, Y, test_size=0.25, random_state=42)\n",
    "\n",
    "base_gp = GaussianProcessRegressor(random_state=0)\n",
    "multi_gp = MultiOutputRegressor(base_gp)\n",
    "multi_gp.fit(X_train, Y_train)\n"
   ]
  },
  {
   "cell_type": "markdown",
   "id": "05aab010",
   "metadata": {},
   "source": [
    "**Compute and plot metrics**"
   ]
  },
  {
   "cell_type": "code",
   "execution_count": null,
   "id": "c50187e4",
   "metadata": {},
   "outputs": [],
   "source": [
    "metrics_df, overall_metrics = get_uq_performance_metrics_flexible(multi_gp, X_test, Y_test)\n",
    "\n",
    "# Plot\n",
    "metrics_to_plot = ['rmse', 'mae', 'nll', 'miscal_area']\n",
    "ax = metrics_df[metrics_to_plot].plot.bar(figsize=(10, 6))\n",
    "ax.set_xticklabels([f\"Output {i}\" for i in metrics_df['output']])\n",
    "plt.xlabel('Output')\n",
    "plt.title('Uncertainty Toolbox Metrics per Output')\n",
    "plt.legend(title=\"Metric\")\n",
    "plt.tight_layout()\n",
    "plt.show()\n"
   ]
  }
 ],
 "metadata": {
  "kernelspec": {
   "display_name": "foo310",
   "language": "python",
   "name": "python3"
  },
  "language_info": {
   "codemirror_mode": {
    "name": "ipython",
    "version": 3
   },
   "file_extension": ".py",
   "mimetype": "text/x-python",
   "name": "python",
   "nbconvert_exporter": "python",
   "pygments_lexer": "ipython3",
   "version": "3.10.16"
  }
 },
 "nbformat": 4,
 "nbformat_minor": 5
}
